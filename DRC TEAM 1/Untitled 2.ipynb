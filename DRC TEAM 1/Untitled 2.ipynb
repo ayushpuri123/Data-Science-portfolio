{
 "cells": [
  {
   "cell_type": "code",
   "execution_count": 2,
   "id": "1f5b5e4b",
   "metadata": {},
   "outputs": [
    {
     "name": "stdout",
     "output_type": "stream",
     "text": [
      "found 1 original images\n"
     ]
    },
    {
     "ename": "error",
     "evalue": "OpenCV(4.10.0) /Users/xperience/GHA-Actions-OpenCV/_work/opencv-python/opencv-python/opencv/modules/imgproc/src/resize.cpp:4152: error: (-215:Assertion failed) !ssize.empty() in function 'resize'\n",
     "output_type": "error",
     "traceback": [
      "\u001b[0;31m---------------------------------------------------------------------------\u001b[0m",
      "\u001b[0;31merror\u001b[0m                                     Traceback (most recent call last)",
      "Cell \u001b[0;32mIn[2], line 69\u001b[0m\n\u001b[1;32m     67\u001b[0m \u001b[38;5;28;01mfor\u001b[39;00m i, image_file \u001b[38;5;129;01min\u001b[39;00m \u001b[38;5;28menumerate\u001b[39m(images):\n\u001b[1;32m     68\u001b[0m     img \u001b[38;5;241m=\u001b[39m cv2\u001b[38;5;241m.\u001b[39mimread(image_file)\n\u001b[0;32m---> 69\u001b[0m     cv2\u001b[38;5;241m.\u001b[39mimshow(\u001b[38;5;124m\"\u001b[39m\u001b[38;5;124mimage\u001b[39m\u001b[38;5;124m\"\u001b[39m, cv2\u001b[38;5;241m.\u001b[39mresize(img, (\u001b[38;5;241m40\u001b[39m\u001b[38;5;241m*\u001b[39m\u001b[38;5;241m4\u001b[39m, \u001b[38;5;241m40\u001b[39m\u001b[38;5;241m*\u001b[39m\u001b[38;5;241m4\u001b[39m)))\n\u001b[1;32m     70\u001b[0m     label \u001b[38;5;241m=\u001b[39m \u001b[38;5;124m\"\u001b[39m\u001b[38;5;124m\"\u001b[39m\n\u001b[1;32m     71\u001b[0m     \u001b[38;5;28;01mwhile\u001b[39;00m label \u001b[38;5;241m==\u001b[39m \u001b[38;5;124m\"\u001b[39m\u001b[38;5;124m\"\u001b[39m:\n",
      "\u001b[0;31merror\u001b[0m: OpenCV(4.10.0) /Users/xperience/GHA-Actions-OpenCV/_work/opencv-python/opencv-python/opencv/modules/imgproc/src/resize.cpp:4152: error: (-215:Assertion failed) !ssize.empty() in function 'resize'\n"
     ]
    }
   ],
   "source": [
    "import glob\n",
    "import cv2\n",
    "import shutil\n",
    "import os\n",
    "\n",
    "def split_video_to_frames(video_path, output_dir):\n",
    "    try:\n",
    "        cap = cv2.VideoCapture(video_path)\n",
    "        frame_count = 0\n",
    "        while True:\n",
    "            ret, frame = cap.read()\n",
    "            if not ret:\n",
    "                break\n",
    "            frame_path = os.path.join(output_dir, f\"frame_{frame_count:04d}.jpg\")\n",
    "            cv2.imwrite(frame_path, frame)\n",
    "            frame_count += 1\n",
    "        cap.release()\n",
    "        logging.info(f\"Total frames extracted from {video_path}: {frame_count}\")\n",
    "        return frame_count\n",
    "    except Exception as e:\n",
    "        logging.error(f\"Error in split_video_to_frames: {e}\")\n",
    "        return 0\n",
    "\n",
    "# Function to perform blob detection\n",
    "def detect_blobs(image, min_area=1000, max_area=10000, min_circularity=0.05, min_convexity=0.5, min_inertia_ratio=0.01):\n",
    "    try:\n",
    "        # Convert image to grayscale\n",
    "        gray_image = cv2.cvtColor(image, cv2.COLOR_BGR2GRAY)\n",
    "\n",
    "        # Apply Gaussian blur\n",
    "        blurred_image = cv2.GaussianBlur(gray_image, (5, 5), 0)\n",
    "\n",
    "        # Apply thresholding\n",
    "        _, thresh_image = cv2.threshold(blurred_image, 60, 255, cv2.THRESH_BINARY_INV)\n",
    "\n",
    "        # Set up the blob detector\n",
    "        params = cv2.SimpleBlobDetector_Params()\n",
    "        params.filterByArea = True\n",
    "        params.minArea = min_area\n",
    "        params.maxArea = max_area\n",
    "        params.filterByCircularity = True\n",
    "        params.minCircularity = min_circularity\n",
    "        params.filterByConvexity = True\n",
    "        params.minConvexity = min_convexity\n",
    "        params.filterByInertia = True\n",
    "        params.minInertiaRatio = min_inertia_ratio\n",
    "        params.filterByColor = True\n",
    "        params.blobColor = 255  # Detect white blobs\n",
    "\n",
    "        detector = cv2.SimpleBlobDetector_create(params)\n",
    "\n",
    "        # Detect blobs\n",
    "        keypoints = detector.detect(thresh_image)\n",
    "        return keypoints\n",
    "    except Exception as e:\n",
    "        logging.error(f\"Error in detect_blobs: {e}\")\n",
    "        return []\n",
    "\n",
    "images = glob.glob(\"Dataset\")\n",
    "print(f\"found {len(images)} original images\")\n",
    "new_dir = \"./set2-rights-labeled-whole/\"\n",
    "try:\n",
    "    os.mkdir(new_dir)\n",
    "except FileExistsError:\n",
    "    pass\n",
    "\n",
    "for i, image_file in enumerate(images):\n",
    "    img = cv2.imread(image_file)\n",
    "    cv2.imshow(\"image\", cv2.resize(img, (40*4, 40*4)))\n",
    "    label = \"\"\n",
    "    while label == \"\":\n",
    "        ch = cv2.waitKey(-1)\n",
    "        if ch == 27: # esc\n",
    "            quit()\n",
    "        if ch == ord('a'):\n",
    "            label = \"L\"\n",
    "        elif ch == ord('d'):\n",
    "            label = \"R\"\n",
    "        elif ch == ord('s'):\n",
    "            label = \"N\"\n",
    "\n",
    "    shutil.copyfile(image_file, f\"{new_dir}{label}{str(i)}.png\")"
   ]
  },
  {
   "cell_type": "code",
   "execution_count": null,
   "id": "d97573b6",
   "metadata": {},
   "outputs": [],
   "source": []
  }
 ],
 "metadata": {
  "kernelspec": {
   "display_name": "Python 3 (ipykernel)",
   "language": "python",
   "name": "python3"
  },
  "language_info": {
   "codemirror_mode": {
    "name": "ipython",
    "version": 3
   },
   "file_extension": ".py",
   "mimetype": "text/x-python",
   "name": "python",
   "nbconvert_exporter": "python",
   "pygments_lexer": "ipython3",
   "version": "3.11.3"
  }
 },
 "nbformat": 4,
 "nbformat_minor": 5
}
